{
 "cells": [
  {
   "cell_type": "markdown",
   "id": "2d57c34e-fe6c-4817-8f81-7074cf024801",
   "metadata": {},
   "source": [
    "# Generate today's English word"
   ]
  },
  {
   "cell_type": "code",
   "execution_count": 26,
   "id": "d1e44154-89a2-495d-8066-144adfaa660f",
   "metadata": {},
   "outputs": [],
   "source": [
    "import json\n",
    "\n",
    "from tqdm.notebook import tqdm\n",
    "from langchain_core.prompts import PromptTemplate\n",
    "from langchain_openai import ChatOpenAI\n",
    "from langchain_core.output_parsers import JsonOutputParser\n",
    "from langchain.pydantic_v1 import BaseModel, Field\n",
    "from langchain.schema import HumanMessage, AIMessage\n",
    "import pandas as pd\n",
    "import os\n",
    "os.environ[\"OPENAI_API_KEY\"] = \"Your API Key\"\n"
   ]
  },
  {
   "cell_type": "code",
   "execution_count": 48,
   "id": "559e7cbe-faab-4c5f-8110-27d33981b346",
   "metadata": {},
   "outputs": [],
   "source": [
    "model = ChatOpenAI(model=\"gpt-3.5-turbo\", temperature=1.0)"
   ]
  },
  {
   "cell_type": "code",
   "execution_count": 49,
   "id": "4da16463-e4c9-48d7-9c4c-9ccc7ea343bd",
   "metadata": {},
   "outputs": [],
   "source": [
    "class Word(BaseModel):\n",
    "    word: str = Field(\"English word\")\n",
    "    emoji: str = Field(\"appropriate emoji for the word\")\n",
    "    meaning: str = Field(\"The meaing of the word in English\")"
   ]
  },
  {
   "cell_type": "code",
   "execution_count": 50,
   "id": "b2212e45-9dcc-4d4a-a9cd-46f94b36502d",
   "metadata": {},
   "outputs": [],
   "source": [
    "parser = JsonOutputParser(pydantic_object=Word)"
   ]
  },
  {
   "cell_type": "code",
   "execution_count": 51,
   "id": "07337f8a-7e9a-4e39-8b0b-33194a2ee510",
   "metadata": {},
   "outputs": [],
   "source": [
    "format_instruction = parser.get_format_instructions()"
   ]
  },
  {
   "cell_type": "code",
   "execution_count": 52,
   "id": "d3ad55f8-7e43-435d-b6cb-592291f39496",
   "metadata": {},
   "outputs": [],
   "source": [
    "fewshot = [\n",
    "    HumanMessage(content=f\"Please create an English word along with a suitable emoji and its meaning, following the given format.\\n{format_instruction}\"),\n",
    "    AIMessage(content='{\"word\": \"situation\", \"emoji\": \"🤔\", \"meaning\": \"Situation refers to a specific place or time where something is happening. It can also indicate the current state or condition of something. Situation can be used to emphasize circumstances where problems or difficulties have arisen.\"}'),\n",
    "    HumanMessage(content=f\"Please create an English word along with a suitable emoji and its meaning, following the given format.\\n{format_instruction}\"),\n",
    "    AIMessage(content='{\"word\": \"concern\", \"emoji\": \"😟\", \"meaning\": \"Concern means worry or anxiety. It can represent interest or worry about something that can emotionally or physically affect someone. Concern can also mean importance or relevance.\"}'),\n",
    "    HumanMessage(content=f\"Please create an English word along with a suitable emoji and its meaning, following the given format. Make sure that the word created has not created before\\n{format_instruction}\"),\n",
    "]"
   ]
  },
  {
   "cell_type": "code",
   "execution_count": 53,
   "id": "d604982e-f8d1-4d33-8d0d-cf9f5be0d3f9",
   "metadata": {},
   "outputs": [],
   "source": [
    "chain = model | parser"
   ]
  },
  {
   "cell_type": "code",
   "execution_count": 54,
   "id": "5e042fe6-e3c0-465f-baab-e9b8c6d7625b",
   "metadata": {},
   "outputs": [
    {
     "data": {
      "text/plain": [
       "{'word': 'serendipity',\n",
       " 'emoji': '🎉',\n",
       " 'meaning': 'Serendipity is finding something valuable or delightful when you least expect it. It refers to a happy accident or pleasant surprise that comes out of coincidence or chance. Serendipity can lead to unexpected and positive outcomes.'}"
      ]
     },
     "execution_count": 54,
     "metadata": {},
     "output_type": "execute_result"
    }
   ],
   "source": [
    "chain.invoke(fewshot)"
   ]
  },
  {
   "cell_type": "code",
   "execution_count": 55,
   "id": "44d5e8fe-1486-408c-bcd2-aa1c70a5f0a8",
   "metadata": {},
   "outputs": [
    {
     "data": {
      "application/vnd.jupyter.widget-view+json": {
       "model_id": "28698af7abfc4f8388ff10239fca1472",
       "version_major": 2,
       "version_minor": 0
      },
      "text/plain": [
       "  0%|          | 0/10 [00:00<?, ?it/s]"
      ]
     },
     "metadata": {},
     "output_type": "display_data"
    }
   ],
   "source": [
    "sample_list = []\n",
    "n_sample = 10\n",
    "for _ in tqdm(range(10), total=n_sample):\n",
    "    sample = chain.invoke(fewshot)\n",
    "    sample_list.append(sample)\n",
    "    "
   ]
  },
  {
   "cell_type": "code",
   "execution_count": 57,
   "id": "653ae5e8-7e7c-41cf-a7f1-fe7840ee51a3",
   "metadata": {},
   "outputs": [],
   "source": [
    "df = pd.DataFrame(sample_list)"
   ]
  },
  {
   "cell_type": "code",
   "execution_count": 58,
   "id": "e19a9aa0",
   "metadata": {},
   "outputs": [
    {
     "data": {
      "text/html": [
       "<div>\n",
       "<style scoped>\n",
       "    .dataframe tbody tr th:only-of-type {\n",
       "        vertical-align: middle;\n",
       "    }\n",
       "\n",
       "    .dataframe tbody tr th {\n",
       "        vertical-align: top;\n",
       "    }\n",
       "\n",
       "    .dataframe thead th {\n",
       "        text-align: right;\n",
       "    }\n",
       "</style>\n",
       "<table border=\"1\" class=\"dataframe\">\n",
       "  <thead>\n",
       "    <tr style=\"text-align: right;\">\n",
       "      <th></th>\n",
       "      <th>word</th>\n",
       "      <th>emoji</th>\n",
       "      <th>meaning</th>\n",
       "    </tr>\n",
       "  </thead>\n",
       "  <tbody>\n",
       "    <tr>\n",
       "      <th>0</th>\n",
       "      <td>serendipity</td>\n",
       "      <td>🍀</td>\n",
       "      <td>Serendipity is the occurrence of events by cha...</td>\n",
       "    </tr>\n",
       "    <tr>\n",
       "      <th>1</th>\n",
       "      <td>serendipity</td>\n",
       "      <td>🍀</td>\n",
       "      <td>Serendipity refers to the occurrence of events...</td>\n",
       "    </tr>\n",
       "    <tr>\n",
       "      <th>2</th>\n",
       "      <td>serendipity</td>\n",
       "      <td>🍀</td>\n",
       "      <td>Serendipity refers to the occurrence of events...</td>\n",
       "    </tr>\n",
       "    <tr>\n",
       "      <th>3</th>\n",
       "      <td>Whimsical</td>\n",
       "      <td>🤪</td>\n",
       "      <td>Whimsical describes something that is playful,...</td>\n",
       "    </tr>\n",
       "    <tr>\n",
       "      <th>4</th>\n",
       "      <td>serendipity</td>\n",
       "      <td>🍀</td>\n",
       "      <td>Serendipity refers to the occurrence of fortun...</td>\n",
       "    </tr>\n",
       "    <tr>\n",
       "      <th>5</th>\n",
       "      <td>serendipity</td>\n",
       "      <td>🌈</td>\n",
       "      <td>Serendipity refers to the occurrence of events...</td>\n",
       "    </tr>\n",
       "    <tr>\n",
       "      <th>6</th>\n",
       "      <td>serendipity</td>\n",
       "      <td>🍀</td>\n",
       "      <td>Serendipity is the occurrence of events by cha...</td>\n",
       "    </tr>\n",
       "    <tr>\n",
       "      <th>7</th>\n",
       "      <td>serendipity</td>\n",
       "      <td>🍀</td>\n",
       "      <td>Serendipity is the occurrence of events by cha...</td>\n",
       "    </tr>\n",
       "    <tr>\n",
       "      <th>8</th>\n",
       "      <td>serendipity</td>\n",
       "      <td>🍀</td>\n",
       "      <td>Serendipity is the occurrence of events by cha...</td>\n",
       "    </tr>\n",
       "    <tr>\n",
       "      <th>9</th>\n",
       "      <td>Serendipity</td>\n",
       "      <td>🍀</td>\n",
       "      <td>Serendipity is the occurrence of events by cha...</td>\n",
       "    </tr>\n",
       "  </tbody>\n",
       "</table>\n",
       "</div>"
      ],
      "text/plain": [
       "          word emoji                                            meaning\n",
       "0  serendipity     🍀  Serendipity is the occurrence of events by cha...\n",
       "1  serendipity     🍀  Serendipity refers to the occurrence of events...\n",
       "2  serendipity     🍀  Serendipity refers to the occurrence of events...\n",
       "3    Whimsical     🤪  Whimsical describes something that is playful,...\n",
       "4  serendipity     🍀  Serendipity refers to the occurrence of fortun...\n",
       "5  serendipity     🌈  Serendipity refers to the occurrence of events...\n",
       "6  serendipity     🍀  Serendipity is the occurrence of events by cha...\n",
       "7  serendipity     🍀  Serendipity is the occurrence of events by cha...\n",
       "8  serendipity     🍀  Serendipity is the occurrence of events by cha...\n",
       "9  Serendipity     🍀  Serendipity is the occurrence of events by cha..."
      ]
     },
     "execution_count": 58,
     "metadata": {},
     "output_type": "execute_result"
    }
   ],
   "source": [
    "df"
   ]
  },
  {
   "cell_type": "code",
   "execution_count": 60,
   "id": "e5a20560-cf3d-4223-9520-d4a3d3dea5bb",
   "metadata": {},
   "outputs": [],
   "source": [
    "df.to_excel(\"./words.xlsx\", index=False)"
   ]
  },
  {
   "cell_type": "code",
   "execution_count": null,
   "id": "c7bbcd3c-d54d-4725-9ca2-192b1610ca23",
   "metadata": {},
   "outputs": [],
   "source": []
  }
 ],
 "metadata": {
  "kernelspec": {
   "display_name": "Python 3 (ipykernel)",
   "language": "python",
   "name": "python3"
  },
  "language_info": {
   "codemirror_mode": {
    "name": "ipython",
    "version": 3
   },
   "file_extension": ".py",
   "mimetype": "text/x-python",
   "name": "python",
   "nbconvert_exporter": "python",
   "pygments_lexer": "ipython3",
   "version": "3.11.8"
  }
 },
 "nbformat": 4,
 "nbformat_minor": 5
}
