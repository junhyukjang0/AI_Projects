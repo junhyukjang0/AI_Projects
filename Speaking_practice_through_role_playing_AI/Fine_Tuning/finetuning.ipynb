{
 "cells": [
  {
   "cell_type": "markdown",
   "id": "6579f1d6-a64e-4587-9259-966fb4447848",
   "metadata": {},
   "source": [
    "# Fine-tuning을 이용한 AI에게 인격 부여하기\n",
    "## OpenAI Fine-tuning API로 학습하고 대화하기"
   ]
  },
  {
   "cell_type": "code",
   "execution_count": 1,
   "id": "b27d31dc-20de-46cd-aef5-df20eceeb8d7",
   "metadata": {},
   "outputs": [],
   "source": [
    "from openai import OpenAI\n",
    "import os"
   ]
  },
  {
   "cell_type": "code",
   "execution_count": 2,
   "id": "3df5de88-3535-46c2-aa81-7e1de2038155",
   "metadata": {},
   "outputs": [],
   "source": [
    "os.environ[\"OPENAI_API_KEY\"] = \"Your API Key\"\n",
    "client = OpenAI()"
   ]
  },
  {
   "cell_type": "markdown",
   "id": "f4d7828f-f971-4fde-bfa4-eaf63f23ccc9",
   "metadata": {},
   "source": [
    "## Upload File"
   ]
  },
  {
   "cell_type": "code",
   "execution_count": 3,
   "id": "a97c475c-e64c-4c1c-95c1-4cc3a3c9a6bf",
   "metadata": {},
   "outputs": [],
   "source": [
    "train_file = client.files.create(\n",
    "  file=open(\"train.jsonl\", \"rb\"),\n",
    "  purpose=\"fine-tune\"\n",
    ")"
   ]
  },
  {
   "cell_type": "code",
   "execution_count": 4,
   "id": "1633001a-636a-4d42-b34c-1d94e325d0c9",
   "metadata": {},
   "outputs": [
    {
     "data": {
      "text/plain": [
       "FileObject(id='file-II2lgL817TCYt51FFUBYQOnF', bytes=92059, created_at=1712789091, filename='train.jsonl', object='file', purpose='fine-tune', status='processed', status_details=None)"
      ]
     },
     "execution_count": 4,
     "metadata": {},
     "output_type": "execute_result"
    }
   ],
   "source": [
    "train_file"
   ]
  },
  {
   "cell_type": "code",
   "execution_count": 6,
   "id": "735ef446-557a-4a06-a356-ecfd2a9b47d5",
   "metadata": {},
   "outputs": [
    {
     "data": {
      "text/plain": [
       "{'id': 'file-II2lgL817TCYt51FFUBYQOnF',\n",
       " 'bytes': 92059,\n",
       " 'created_at': 1712789091,\n",
       " 'filename': 'train.jsonl',\n",
       " 'object': 'file',\n",
       " 'purpose': 'fine-tune',\n",
       " 'status': 'processed',\n",
       " 'status_details': None}"
      ]
     },
     "execution_count": 6,
     "metadata": {},
     "output_type": "execute_result"
    }
   ],
   "source": [
    "train_file.dict()"
   ]
  },
  {
   "cell_type": "code",
   "execution_count": 7,
   "id": "d0dac8c1-6446-47ea-9d95-0b617cbcec5e",
   "metadata": {},
   "outputs": [
    {
     "data": {
      "text/plain": [
       "'file-II2lgL817TCYt51FFUBYQOnF'"
      ]
     },
     "execution_count": 7,
     "metadata": {},
     "output_type": "execute_result"
    }
   ],
   "source": [
    "train_file.id"
   ]
  },
  {
   "cell_type": "code",
   "execution_count": 8,
   "id": "5fbbec8a-5fb0-4e29-beb2-38f30d159855",
   "metadata": {},
   "outputs": [],
   "source": [
    "valid_file = client.files.create(\n",
    "  file=open(\"valid.jsonl\", \"rb\"),\n",
    "  purpose=\"fine-tune\"\n",
    ")"
   ]
  },
  {
   "cell_type": "code",
   "execution_count": 9,
   "id": "39eeb93f-e294-4e3c-ad75-4c9e2a7cef43",
   "metadata": {},
   "outputs": [
    {
     "data": {
      "text/plain": [
       "FileObject(id='file-wBm3g3clvd4M2zFbN38TeNzW', bytes=26371, created_at=1712789135, filename='valid.jsonl', object='file', purpose='fine-tune', status='processed', status_details=None)"
      ]
     },
     "execution_count": 9,
     "metadata": {},
     "output_type": "execute_result"
    }
   ],
   "source": [
    "valid_file"
   ]
  },
  {
   "cell_type": "code",
   "execution_count": 10,
   "id": "40780f8d-1aa2-4d3e-a30b-5bf2fb272185",
   "metadata": {},
   "outputs": [
    {
     "data": {
      "text/plain": [
       "{'id': 'file-wBm3g3clvd4M2zFbN38TeNzW',\n",
       " 'bytes': 26371,\n",
       " 'created_at': 1712789135,\n",
       " 'filename': 'valid.jsonl',\n",
       " 'object': 'file',\n",
       " 'purpose': 'fine-tune',\n",
       " 'status': 'processed',\n",
       " 'status_details': None}"
      ]
     },
     "execution_count": 10,
     "metadata": {},
     "output_type": "execute_result"
    }
   ],
   "source": [
    "valid_file.dict()"
   ]
  },
  {
   "cell_type": "code",
   "execution_count": 11,
   "id": "c66de934-7f7e-4d4d-a3c0-1213634e0ea8",
   "metadata": {},
   "outputs": [
    {
     "data": {
      "text/plain": [
       "'file-wBm3g3clvd4M2zFbN38TeNzW'"
      ]
     },
     "execution_count": 11,
     "metadata": {},
     "output_type": "execute_result"
    }
   ],
   "source": [
    "valid_file.id"
   ]
  },
  {
   "cell_type": "markdown",
   "id": "13707053-4c8b-4979-bb95-4c6767734af0",
   "metadata": {},
   "source": [
    "## Finetuning"
   ]
  },
  {
   "cell_type": "markdown",
   "id": "f46ff6b2-4b67-47c0-8634-9520f900b8c5",
   "metadata": {},
   "source": [
    "### Finetuning job 제출하기"
   ]
  },
  {
   "cell_type": "code",
   "execution_count": 12,
   "id": "ad8bd6ab-6a64-49f9-a541-cc8b6c63f236",
   "metadata": {},
   "outputs": [],
   "source": [
    "job = client.fine_tuning.jobs.create(\n",
    "  training_file=train_file.id,\n",
    "  validation_file=valid_file.id, \n",
    "  model=\"gpt-3.5-turbo-1106\",\n",
    "  hyperparameters={\n",
    "    \"n_epochs\": 1 # default: 3 (3-7 is a typical value)\n",
    "  }\n",
    ")"
   ]
  },
  {
   "cell_type": "code",
   "execution_count": 13,
   "id": "6c84852f-9cd6-4aa7-89e2-ffc89b793bbd",
   "metadata": {},
   "outputs": [
    {
     "data": {
      "text/plain": [
       "FineTuningJob(id='ftjob-7qQ4J4kI670e75dbjOrU2aqs', created_at=1712789366, error=Error(code=None, message=None, param=None, error=None), fine_tuned_model=None, finished_at=None, hyperparameters=Hyperparameters(n_epochs=1, batch_size='auto', learning_rate_multiplier='auto'), model='gpt-3.5-turbo-1106', object='fine_tuning.job', organization_id='org-DUZd3CNfS4SZyCNWQofP8MWw', result_files=[], status='validating_files', trained_tokens=None, training_file='file-II2lgL817TCYt51FFUBYQOnF', validation_file='file-wBm3g3clvd4M2zFbN38TeNzW', user_provided_suffix=None, seed=1140655138, integrations=[])"
      ]
     },
     "execution_count": 13,
     "metadata": {},
     "output_type": "execute_result"
    }
   ],
   "source": [
    "job"
   ]
  },
  {
   "cell_type": "code",
   "execution_count": 14,
   "id": "0e483009-4d49-420e-8d75-24c88fc00b72",
   "metadata": {},
   "outputs": [
    {
     "data": {
      "text/plain": [
       "{'id': 'ftjob-7qQ4J4kI670e75dbjOrU2aqs',\n",
       " 'created_at': 1712789366,\n",
       " 'error': {'code': None, 'message': None, 'param': None, 'error': None},\n",
       " 'fine_tuned_model': None,\n",
       " 'finished_at': None,\n",
       " 'hyperparameters': {'n_epochs': 1,\n",
       "  'batch_size': 'auto',\n",
       "  'learning_rate_multiplier': 'auto'},\n",
       " 'model': 'gpt-3.5-turbo-1106',\n",
       " 'object': 'fine_tuning.job',\n",
       " 'organization_id': 'org-DUZd3CNfS4SZyCNWQofP8MWw',\n",
       " 'result_files': [],\n",
       " 'status': 'validating_files',\n",
       " 'trained_tokens': None,\n",
       " 'training_file': 'file-II2lgL817TCYt51FFUBYQOnF',\n",
       " 'validation_file': 'file-wBm3g3clvd4M2zFbN38TeNzW',\n",
       " 'user_provided_suffix': None,\n",
       " 'seed': 1140655138,\n",
       " 'integrations': []}"
      ]
     },
     "execution_count": 14,
     "metadata": {},
     "output_type": "execute_result"
    }
   ],
   "source": [
    "job.dict()"
   ]
  },
  {
   "cell_type": "code",
   "execution_count": 15,
   "id": "eef49ad7-f745-4bb0-9f24-54e96fab2295",
   "metadata": {},
   "outputs": [
    {
     "data": {
      "text/plain": [
       "'ftjob-7qQ4J4kI670e75dbjOrU2aqs'"
      ]
     },
     "execution_count": 15,
     "metadata": {},
     "output_type": "execute_result"
    }
   ],
   "source": [
    "job.id"
   ]
  },
  {
   "cell_type": "code",
   "execution_count": 16,
   "id": "b6c474a0-7d39-4f33-85ee-b77baf70f98b",
   "metadata": {},
   "outputs": [
    {
     "name": "stdout",
     "output_type": "stream",
     "text": [
      "Job ID: ftjob-7qQ4J4kI670e75dbjOrU2aqs\n",
      "Status: validating_files\n"
     ]
    }
   ],
   "source": [
    "print(\"Job ID:\", job.id)\n",
    "print(\"Status:\", job.status)"
   ]
  },
  {
   "cell_type": "markdown",
   "id": "8e36e121-8bd6-4273-8540-c132b2970a7e",
   "metadata": {},
   "source": [
    "### Finetuning job들 가져오기"
   ]
  },
  {
   "cell_type": "code",
   "execution_count": 17,
   "id": "6c81e496-d1d3-48c5-8951-15e612a4cb0d",
   "metadata": {},
   "outputs": [],
   "source": [
    "resp = client.fine_tuning.jobs.list(limit=10)"
   ]
  },
  {
   "cell_type": "code",
   "execution_count": 18,
   "id": "6ccf4d8b-85a5-4992-806f-7b6def93cab9",
   "metadata": {},
   "outputs": [
    {
     "data": {
      "text/plain": [
       "{'data': [{'id': 'ftjob-7qQ4J4kI670e75dbjOrU2aqs',\n",
       "   'created_at': 1712789366,\n",
       "   'error': {'code': None, 'message': None, 'param': None, 'error': None},\n",
       "   'fine_tuned_model': None,\n",
       "   'finished_at': None,\n",
       "   'hyperparameters': {'n_epochs': 1,\n",
       "    'batch_size': 1,\n",
       "    'learning_rate_multiplier': 8},\n",
       "   'model': 'gpt-3.5-turbo-1106',\n",
       "   'object': 'fine_tuning.job',\n",
       "   'organization_id': 'org-DUZd3CNfS4SZyCNWQofP8MWw',\n",
       "   'result_files': [],\n",
       "   'status': 'validating_files',\n",
       "   'trained_tokens': None,\n",
       "   'training_file': 'file-II2lgL817TCYt51FFUBYQOnF',\n",
       "   'validation_file': 'file-wBm3g3clvd4M2zFbN38TeNzW',\n",
       "   'user_provided_suffix': None,\n",
       "   'seed': 1140655138,\n",
       "   'integrations': []}],\n",
       " 'object': 'list',\n",
       " 'has_more': False}"
      ]
     },
     "execution_count": 18,
     "metadata": {},
     "output_type": "execute_result"
    }
   ],
   "source": [
    "resp.dict()"
   ]
  },
  {
   "cell_type": "markdown",
   "id": "564f4084-55df-42e9-b90c-6f24457486fd",
   "metadata": {},
   "source": [
    "### 현재 Finetuning 상태 가져오기\n"
   ]
  },
  {
   "cell_type": "code",
   "execution_count": 19,
   "id": "24d84aca-ccde-453c-8d64-e0a04a140988",
   "metadata": {},
   "outputs": [],
   "source": [
    "job = client.fine_tuning.jobs.retrieve(job.id)"
   ]
  },
  {
   "cell_type": "code",
   "execution_count": 20,
   "id": "e9868cf5-91ad-485f-8ca6-b71b17eb1069",
   "metadata": {},
   "outputs": [
    {
     "data": {
      "text/plain": [
       "{'id': 'ftjob-7qQ4J4kI670e75dbjOrU2aqs',\n",
       " 'created_at': 1712789366,\n",
       " 'error': {'code': None, 'message': None, 'param': None, 'error': None},\n",
       " 'fine_tuned_model': None,\n",
       " 'finished_at': None,\n",
       " 'hyperparameters': {'n_epochs': 1,\n",
       "  'batch_size': 1,\n",
       "  'learning_rate_multiplier': 8},\n",
       " 'model': 'gpt-3.5-turbo-1106',\n",
       " 'object': 'fine_tuning.job',\n",
       " 'organization_id': 'org-DUZd3CNfS4SZyCNWQofP8MWw',\n",
       " 'result_files': [],\n",
       " 'status': 'running',\n",
       " 'trained_tokens': None,\n",
       " 'training_file': 'file-II2lgL817TCYt51FFUBYQOnF',\n",
       " 'validation_file': 'file-wBm3g3clvd4M2zFbN38TeNzW',\n",
       " 'user_provided_suffix': None,\n",
       " 'seed': 1140655138,\n",
       " 'integrations': []}"
      ]
     },
     "execution_count": 20,
     "metadata": {},
     "output_type": "execute_result"
    }
   ],
   "source": [
    "job.dict()"
   ]
  },
  {
   "cell_type": "code",
   "execution_count": 21,
   "id": "5efaa8f7-54b9-43a8-85a9-12aabf5f91b1",
   "metadata": {},
   "outputs": [
    {
     "name": "stdout",
     "output_type": "stream",
     "text": [
      "Job ID: ftjob-7qQ4J4kI670e75dbjOrU2aqs\n",
      "Status: running\n"
     ]
    }
   ],
   "source": [
    "print(\"Job ID:\", job.id)\n",
    "print(\"Status:\", job.status)"
   ]
  },
  {
   "cell_type": "markdown",
   "id": "5101072f-119b-40bc-b5c1-6654d8cc0990",
   "metadata": {},
   "source": [
    "### Finetuning job 캔슬하기"
   ]
  },
  {
   "cell_type": "code",
   "execution_count": null,
   "id": "7ebd0472-6dae-47ae-af15-e930b2f566ba",
   "metadata": {},
   "outputs": [],
   "source": [
    "# client.fine_tuning.jobs.cancel(job.id)"
   ]
  },
  {
   "cell_type": "markdown",
   "id": "03d9feec-80b8-4ab1-904e-367e850de6ae",
   "metadata": {},
   "source": [
    "### 학습 과정 확인하기"
   ]
  },
  {
   "cell_type": "code",
   "execution_count": 22,
   "id": "dd141a4a-4af9-48ce-8d37-56549bf7a373",
   "metadata": {},
   "outputs": [
    {
     "name": "stdout",
     "output_type": "stream",
     "text": [
      "Created fine-tuning job: ftjob-7qQ4J4kI670e75dbjOrU2aqs\n",
      "Validating training file: file-II2lgL817TCYt51FFUBYQOnF and validation file: file-wBm3g3clvd4M2zFbN38TeNzW\n",
      "Files validated, moving job to queued state\n",
      "Fine-tuning job started\n"
     ]
    }
   ],
   "source": [
    "# List up to 10 events from a fine-tuning job\n",
    "response = client.fine_tuning.jobs.list_events(fine_tuning_job_id=job.id, limit=10)\n",
    "events = response.data\n",
    "events.reverse()\n",
    "\n",
    "for event in events:\n",
    "    print(event.message)"
   ]
  },
  {
   "cell_type": "markdown",
   "id": "d72ba731-4515-42ad-898e-4f74fc1bf699",
   "metadata": {},
   "source": [
    "### Finetuning 모델 삭제하기"
   ]
  },
  {
   "cell_type": "code",
   "execution_count": null,
   "id": "a4189ee5-4271-44d7-8e94-c9ed285936ad",
   "metadata": {},
   "outputs": [],
   "source": [
    "# Delete a fine-tuned model (must be an owner of the org the model was created in)\n",
    "client.models.delete(\"ft:gpt-3.5-turbo:acemeco:suffix:abc123\")"
   ]
  },
  {
   "cell_type": "markdown",
   "id": "53cdfecb-8872-4032-8c3d-78f14c18da1d",
   "metadata": {},
   "source": [
    "# Finetuning된 모델 Inference하기"
   ]
  },
  {
   "cell_type": "code",
   "execution_count": 3,
   "id": "f6986956-a851-4a78-b648-ba70cad1aa38",
   "metadata": {},
   "outputs": [],
   "source": [
    "from openai import OpenAI\n",
    "os.environ[\"OPENAI_API_KEY\"] = \"Your API Key\"\n",
    "client = OpenAI()"
   ]
  },
  {
   "cell_type": "code",
   "execution_count": 4,
   "id": "40bb7917-27f2-475c-b83b-e6ba11614fd9",
   "metadata": {},
   "outputs": [],
   "source": [
    "system_prompt =\"\"\"\\\n",
    "- You are an employee at a hamburger restaurant.\n",
    "- Ask the following questions in order.\n",
    "1. Ask for the menu to order.\n",
    "2. Ask if there's anything else to order.\n",
    "3. Ask whether they will dine in or take away.\n",
    "4. Ask if they will pay by card or cash.\n",
    "5. Greet the customer and say \"[END]\" when the order is complete.\n",
    "- You respond in English.\"\"\""
   ]
  },
  {
   "cell_type": "code",
   "execution_count": 5,
   "id": "87b69c53-d83b-4edc-9572-0efb6db729d9",
   "metadata": {},
   "outputs": [],
   "source": [
    "model = \"ft:gpt-3.5-turbo-1106:personal::9Cb9xPzW\""
   ]
  },
  {
   "cell_type": "code",
   "execution_count": 30,
   "id": "bb648d60-1deb-44c6-9bd7-a065ee3b113d",
   "metadata": {},
   "outputs": [
    {
     "name": "stdout",
     "output_type": "stream",
     "text": [
      "Welcome to our restaurant! \n",
      "- What can I get for you? [END]\n"
     ]
    }
   ],
   "source": [
    "response = client.chat.completions.create(\n",
    "  model=model,\n",
    "  messages=[\n",
    "    {\"role\": \"system\", \"content\": system_prompt},\n",
    "    {\"role\": \"user\", \"content\": \"Hello\"}\n",
    "  ]\n",
    ")\n",
    "print(response.choices[0].message.content)"
   ]
  },
  {
   "cell_type": "code",
   "execution_count": 6,
   "id": "598d21a6-8a67-428e-9b7b-3d6d596949a0",
   "metadata": {},
   "outputs": [],
   "source": [
    "from langchain_openai import ChatOpenAI\n",
    "from langchain.prompts import ChatPromptTemplate\n",
    "from langchain.schema import StrOutputParser"
   ]
  },
  {
   "cell_type": "code",
   "execution_count": 7,
   "id": "777893d3-ca55-4571-9c26-25a0e7abfd4b",
   "metadata": {},
   "outputs": [],
   "source": [
    "llm = ChatOpenAI(model=model)"
   ]
  },
  {
   "cell_type": "code",
   "execution_count": 8,
   "id": "0ed2f5ad-6ae1-42b6-9c91-1704889edb5d",
   "metadata": {},
   "outputs": [],
   "source": [
    "prompt_template = ChatPromptTemplate.from_messages(\n",
    "    [\n",
    "        (\"system\", system_prompt),\n",
    "        (\"human\", \"{input}\" )\n",
    "    ]\n",
    ")"
   ]
  },
  {
   "cell_type": "code",
   "execution_count": 9,
   "id": "af14af53-638d-4d9c-bf05-812644089e6b",
   "metadata": {},
   "outputs": [],
   "source": [
    "chain = prompt_template | llm | StrOutputParser()"
   ]
  },
  {
   "cell_type": "code",
   "execution_count": 10,
   "id": "2bbe1a88-a1b3-4ec5-8ec0-5470df0b291e",
   "metadata": {},
   "outputs": [
    {
     "data": {
      "text/plain": [
       "'Great choice! Here is the menu:\\n- Cheese Burger\\nIs there anything else you would like to order?'"
      ]
     },
     "execution_count": 10,
     "metadata": {},
     "output_type": "execute_result"
    }
   ],
   "source": [
    "chain.invoke({\"input\": \"I'd like to order a cheese burger\"})"
   ]
  },
  {
   "cell_type": "markdown",
   "id": "767807ef",
   "metadata": {},
   "source": [
    "## Conversation"
   ]
  },
  {
   "cell_type": "code",
   "execution_count": 11,
   "id": "f1022d20-c29a-47ef-aa90-272e046e9354",
   "metadata": {},
   "outputs": [],
   "source": [
    "from operator import itemgetter \n",
    "from langchain.memory import ConversationBufferMemory\n",
    "from langchain_core.prompts import ChatPromptTemplate, MessagesPlaceholder\n",
    "from langchain_core.runnables import RunnableLambda, RunnablePassthrough, RunnableParallel\n"
   ]
  },
  {
   "cell_type": "code",
   "execution_count": 12,
   "id": "d5eca5e3-0d6d-4de4-bcb0-9a9a344d4eb8",
   "metadata": {},
   "outputs": [],
   "source": [
    "llm = ChatOpenAI(model=model)"
   ]
  },
  {
   "cell_type": "code",
   "execution_count": 13,
   "id": "66e3d5c2",
   "metadata": {},
   "outputs": [],
   "source": [
    "prompt = ChatPromptTemplate.from_messages(\n",
    "        [\n",
    "            (\"system\", system_prompt),\n",
    "            MessagesPlaceholder(variable_name=\"chat_history\"),\n",
    "            (\"human\", \"{input}\"),\n",
    "        ]\n",
    "    )"
   ]
  },
  {
   "cell_type": "code",
   "execution_count": 14,
   "id": "5f715be6",
   "metadata": {},
   "outputs": [],
   "source": [
    "memory = ConversationBufferMemory(memory_key=\"chat_history\", return_messages=True)"
   ]
  },
  {
   "cell_type": "code",
   "execution_count": 15,
   "id": "819b67ff",
   "metadata": {},
   "outputs": [],
   "source": [
    "conv_chain = (\n",
    "    RunnablePassthrough.assign(\n",
    "        chat_history=RunnableLambda(memory.load_memory_variables) | itemgetter(\"chat_history\")\n",
    "    )\n",
    "    | prompt\n",
    "    | llm\n",
    ")"
   ]
  },
  {
   "cell_type": "code",
   "execution_count": 16,
   "id": "588ebf46",
   "metadata": {},
   "outputs": [],
   "source": [
    "quit_msg = {'q', ''}\n",
    "while True:\n",
    "    user_input = input('user: ')\n",
    "    if user_input in quit_msg:\n",
    "        break\n",
    "    print(f'AI: ', end='')\n",
    "    response = \"\"\n",
    "    for chunk in conv_chain.stream({\"input\": user_input}): \n",
    "        print(chunk.content, end=\"\", flush=True)\n",
    "        response += chunk.content\n",
    "    \n",
    "    memory.save_context({\"input\": user_input}, {\"output\": response})"
   ]
  },
  {
   "cell_type": "code",
   "execution_count": null,
   "id": "b1ceec1c",
   "metadata": {},
   "outputs": [],
   "source": []
  }
 ],
 "metadata": {
  "kernelspec": {
   "display_name": "Python 3 (ipykernel)",
   "language": "python",
   "name": "python3"
  },
  "language_info": {
   "codemirror_mode": {
    "name": "ipython",
    "version": 3
   },
   "file_extension": ".py",
   "mimetype": "text/x-python",
   "name": "python",
   "nbconvert_exporter": "python",
   "pygments_lexer": "ipython3",
   "version": "3.11.8"
  }
 },
 "nbformat": 4,
 "nbformat_minor": 5
}
