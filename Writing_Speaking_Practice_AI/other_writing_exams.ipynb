{
 "cells": [
  {
   "cell_type": "markdown",
   "id": "c838d854-5c2e-42d7-afef-1439c61d3ddb",
   "metadata": {},
   "source": [
    "# Writing Exams"
   ]
  },
  {
   "cell_type": "markdown",
   "id": "2256504f-a3a5-4fca-9aa9-9125df789b50",
   "metadata": {},
   "source": [
    "- Replying to an email\n",
    "- Summarizing the contents of the given prompt\n",
    "- Writing your opinion\n",
    "\n"
   ]
  },
  {
   "cell_type": "code",
   "execution_count": 2,
   "id": "65b2be14-007d-443b-8a1a-f2e30375bdb0",
   "metadata": {},
   "outputs": [],
   "source": [
    "import json\n",
    "from typing import List, Union\n",
    "\n",
    "from tqdm.notebook import tqdm\n",
    "from langchain_core.prompts import PromptTemplate, ChatPromptTemplate, HumanMessagePromptTemplate\n",
    "from langchain_core.runnables import RunnableParallel, RunnablePassthrough\n",
    "from langchain_openai import ChatOpenAI\n",
    "from langchain_core.output_parsers import JsonOutputParser, CommaSeparatedListOutputParser\n",
    "from langchain.pydantic_v1 import BaseModel, Field\n",
    "from langchain.schema import HumanMessage, AIMessage, StrOutputParser\n",
    "import pandas as pd\n",
    "\n",
    "import os\n",
    "os.environ[\"OPENAI_API_KEY\"] = \"Your API Key\""
   ]
  },
  {
   "cell_type": "code",
   "execution_count": 3,
   "id": "0b2cf8a2-3d8d-4b44-b496-348792ca32c7",
   "metadata": {},
   "outputs": [],
   "source": [
    "model = ChatOpenAI(model=\"gpt-3.5-turbo\")"
   ]
  },
  {
   "cell_type": "markdown",
   "id": "e01f7a9b-9f39-4eb4-9383-898793384fe1",
   "metadata": {},
   "source": [
    "## 이메일 답장하기"
   ]
  },
  {
   "cell_type": "markdown",
   "id": "304b6cab-fe9d-4b76-8c27-bdef3db3be01",
   "metadata": {},
   "source": [
    "### 가상의 이메일 생성하기"
   ]
  },
  {
   "cell_type": "code",
   "execution_count": 4,
   "id": "1c45b78b-0015-4932-834b-17690fe8f92f",
   "metadata": {},
   "outputs": [],
   "source": [
    "def build_text_sampling_chain(desc):\n",
    "    prompt_template = PromptTemplate.from_template(template=desc)\n",
    "    chain = prompt_template | model | StrOutputParser()\n",
    "    return chain"
   ]
  },
  {
   "cell_type": "code",
   "execution_count": 5,
   "id": "31954b57-bdcf-49f1-8cdb-4af6edc41c72",
   "metadata": {},
   "outputs": [],
   "source": [
    "email_gen_chain = build_text_sampling_chain(desc=\"영어 Writing 시험에서 이메일에 답장하기에 등장 할 법한 가상의 영어 이메일 하나 만들어줘. 이름 같은 것들도 가상으로 만들어서 채워줘. 영어로\")"
   ]
  },
  {
   "cell_type": "code",
   "execution_count": 6,
   "id": "443ff459-9f33-4b99-8672-1c8b6eb9d435",
   "metadata": {},
   "outputs": [
    {
     "data": {
      "text/plain": [
       "'Subject: Re: Job Interview Confirmation\\n\\nDear Mr. Smith,\\n\\nThank you for reaching out to me regarding the job interview at XYZ Company. I am writing to confirm my attendance at the scheduled interview on Friday, June 25th at 10:00 AM.\\n\\nI appreciate the opportunity to interview for the position of Marketing Manager and am looking forward to discussing my qualifications and experience with you and the team.\\n\\nPlease let me know if there is any additional information or documentation that I should bring to the interview. I am excited about the possibility of joining your team and contributing to the success of XYZ Company.\\n\\nThank you once again for considering my application.\\n\\nBest regards,\\n\\nEmily Johnson'"
      ]
     },
     "execution_count": 6,
     "metadata": {},
     "output_type": "execute_result"
    }
   ],
   "source": [
    "email_gen_chain.invoke({})"
   ]
  },
  {
   "cell_type": "markdown",
   "id": "1c6c8e65-3ee3-4667-ba2e-35a75bcce81e",
   "metadata": {},
   "source": [
    "### 답장 평가하기"
   ]
  },
  {
   "cell_type": "code",
   "execution_count": 23,
   "id": "804a56dc-f6ad-436a-974c-0ca50e1abeab",
   "metadata": {},
   "outputs": [],
   "source": [
    "def build_eval_chain(instruction, reason_desc, score_desc):\n",
    "    class Evaluation(BaseModel):\n",
    "        reason: str = Field(description=reason_desc)\n",
    "        score: int = Field(description=score_desc)\n",
    "    \n",
    "    parser = JsonOutputParser(pydantic_object=Evaluation)\n",
    "    format_instructions = parser.get_format_instructions()\n",
    "    \n",
    "    human_prompt_template = HumanMessagePromptTemplate.from_template(\n",
    "                                \"# Instruction: {instruction}\\n\"\n",
    "                                \"# Context: {context}\\n\"\n",
    "                                \"# User: {input}\\n\"\n",
    "                                \"{format_instructions}\")\n",
    "    \n",
    "    prompt = ChatPromptTemplate.from_messages([human_prompt_template])\n",
    "    prompt = prompt.partial(format_instructions=format_instructions, instruction=instruction)\n",
    "    eval_chain = prompt | model | parser\n",
    "    return eval_chain"
   ]
  },
  {
   "cell_type": "code",
   "execution_count": 24,
   "id": "f79c709e-9708-402a-bb6c-a7209dbf4147",
   "metadata": {},
   "outputs": [],
   "source": [
    "email_eval_chain = build_eval_chain(instruction=\"User의 응답이 Context의 이메일에 대한 적절한 응답인지 추론하고 평가하라\",\n",
    "                                    reason_desc=\"User의 응답이 Context의 이메일에 대한 적절한 응답인지에 대한 추론\",\n",
    "                                    score_desc=\"User의 응답이 Context의 이메일에 대한 적절한 응답인지에 대한 점수, 0~10점\")"
   ]
  },
  {
   "cell_type": "code",
   "execution_count": 25,
   "id": "af70a43a-2ca2-4a00-94a3-f02aa91ac1be",
   "metadata": {},
   "outputs": [],
   "source": [
    "email = email_gen_chain.invoke({})"
   ]
  },
  {
   "cell_type": "code",
   "execution_count": 26,
   "id": "379e6d32-0435-4512-85c5-7da34013cd73",
   "metadata": {},
   "outputs": [
    {
     "data": {
      "text/plain": [
       "'Subject: Inquiry about Writing Test Results\\n\\nDear Mr. Johnson,\\n\\nI hope this email finds you well. I am writing to inquire about the results of the recent Writing test that I took. I am eager to know how I performed and would appreciate any feedback or suggestions for improvement.\\n\\nThank you for your time and attention to this matter. I look forward to hearing from you soon.\\n\\nSincerely,\\nEmily Smith'"
      ]
     },
     "execution_count": 26,
     "metadata": {},
     "output_type": "execute_result"
    }
   ],
   "source": [
    "email"
   ]
  },
  {
   "cell_type": "code",
   "execution_count": 27,
   "id": "a4b44c2d-e1e6-4bad-8361-972c48ecaa7a",
   "metadata": {},
   "outputs": [],
   "source": [
    "user_answer = \"Dear Emily Thompson, I'm pleased to provide the details of our upcoming event, which will be held on March 15th, 6:00 PM at the Grand Hall, Downtown, and includes a formal dress code, engaging presentations by renowned speakers, and kindly requests your RSVP by March 1st\""
   ]
  },
  {
   "cell_type": "code",
   "execution_count": 28,
   "id": "286a07f2-3ea0-419b-a02a-90ede494a54b",
   "metadata": {},
   "outputs": [],
   "source": [
    "eval_result = email_eval_chain.invoke({\"context\": email, \"input\": user_answer})"
   ]
  },
  {
   "cell_type": "code",
   "execution_count": 14,
   "id": "3050acc7-9661-425f-b2c9-2736a6d9244b",
   "metadata": {},
   "outputs": [
    {
     "data": {
      "text/plain": [
       "{'reason': \"The user's response is a suitable and relevant answer to the email inquiry about the upcoming event. It provides the necessary details such as the date, time, location, dress code, guest speakers, and RSVP requirements.\",\n",
       " 'score': 10}"
      ]
     },
     "execution_count": 14,
     "metadata": {},
     "output_type": "execute_result"
    }
   ],
   "source": [
    "eval_result"
   ]
  },
  {
   "cell_type": "markdown",
   "id": "bf584546-6831-40d6-867a-a2bd02d81f4c",
   "metadata": {},
   "source": [
    "## 제시문 내용 요약하기"
   ]
  },
  {
   "cell_type": "markdown",
   "id": "cefd7c46-68fa-4a82-973a-96ac5ee41e83",
   "metadata": {},
   "source": [
    "### 무작위 글 생성"
   ]
  },
  {
   "cell_type": "code",
   "execution_count": 29,
   "id": "e618d179-40db-4ca5-bfe5-8ec0d8a7b832",
   "metadata": {},
   "outputs": [],
   "source": [
    "text_gen_chain = build_text_sampling_chain(desc=\"영어 Writing 시험에서 단락 요약하기에 등장 할 법한 가상의 영어 단락 하나 만들어줘. 이름 같은 것들도 가상으로 만들어서 채워줘. 영어로\")"
   ]
  },
  {
   "cell_type": "code",
   "execution_count": 30,
   "id": "9984eb10-2cf3-4c5e-86ef-c8b083ac60dd",
   "metadata": {},
   "outputs": [
    {
     "data": {
      "text/plain": [
       "\"In the bustling city of Rivertown, Sarah and James were preparing for their upcoming wedding. With the help of their friends and family, they were busy making arrangements for the big day. Sarah's dress was a beautiful ivory gown, while James looked sharp in his tailored suit. As the date drew closer, excitement filled the air, and the couple couldn't wait to start their new life together as husband and wife.\""
      ]
     },
     "execution_count": 30,
     "metadata": {},
     "output_type": "execute_result"
    }
   ],
   "source": [
    "text = text_gen_chain.invoke({})\n",
    "text"
   ]
  },
  {
   "cell_type": "markdown",
   "id": "1c863a97-63ec-45b4-ac29-84635485a9b0",
   "metadata": {},
   "source": [
    "### 요약 평가하기"
   ]
  },
  {
   "cell_type": "code",
   "execution_count": 31,
   "id": "7d6d27f4-5996-48fe-8c80-2450e76d64f0",
   "metadata": {},
   "outputs": [],
   "source": [
    "summarization_eval_chain = build_eval_chain(instruction=\"User의 응답이 Context에 대한 적절한 요약인지 추론하고 평가하라\",\n",
    "                                            reason_desc=\"User의 응답이 Context에 대한 적절한 요약인지에 대한 추론\",\n",
    "                                            score_desc=\"User의 응답이 Context에 대한 적절한 요약인지에 대한 점수, 0~10점\")"
   ]
  },
  {
   "cell_type": "code",
   "execution_count": 32,
   "id": "8c3c40b2-7239-4299-ac88-f7b9c70c02db",
   "metadata": {},
   "outputs": [],
   "source": [
    "user_answer = \"The innovative advancement and increasing adoption of solar power is emerging as a green energy solution for a sustainable future.\""
   ]
  },
  {
   "cell_type": "code",
   "execution_count": 33,
   "id": "d472e8aa-f43a-45d0-a881-aef0f511326b",
   "metadata": {},
   "outputs": [
    {
     "data": {
      "text/plain": [
       "{'reason': \"The user's response is not relevant to the context of a wedding preparation in the bustling city of Rivertown.\",\n",
       " 'score': 7}"
      ]
     },
     "execution_count": 33,
     "metadata": {},
     "output_type": "execute_result"
    }
   ],
   "source": [
    "summarization_eval_chain.invoke({\"context\": text,\n",
    "                                 \"input\": user_answer})"
   ]
  },
  {
   "cell_type": "markdown",
   "id": "35ae29b0-ef90-4bdb-823b-4db10a1db617",
   "metadata": {},
   "source": [
    "## 자신의 의견쓰기"
   ]
  },
  {
   "cell_type": "markdown",
   "id": "6ded8806-0a33-422b-8d49-a1f1b4a39ffd",
   "metadata": {},
   "source": [
    "### 무작위 이슈 생성\n"
   ]
  },
  {
   "cell_type": "code",
   "execution_count": 34,
   "id": "98623d8b-2be0-48ea-9801-4b078ee2ac96",
   "metadata": {},
   "outputs": [],
   "source": [
    "issue_gen_chain = build_text_sampling_chain(desc=\"영어 Writing 시험에서 자신의 의견쓰기에 등장 할 법한 무작위 이슈 영어 단락 하나 만들어줘. 이름 같은 것들도 가상으로 만들어서 채워줘. 영어로\")"
   ]
  },
  {
   "cell_type": "code",
   "execution_count": 35,
   "id": "bdaa18d3-7f04-469a-9b29-88a28f7d515a",
   "metadata": {},
   "outputs": [
    {
     "data": {
      "text/plain": [
       "'Recently, there has been a growing debate surrounding the impact of social media on mental health. While some argue that platforms like Instagram and Twitter provide a sense of community and connection, others believe that they can exacerbate feelings of inadequacy and loneliness. In a study conducted by Dr. Smith from the University of XYZ, it was found that individuals who spend more than two hours a day on social media are more likely to experience symptoms of anxiety and depression. This raises important questions about the role of social media in our lives and how we can strike a healthy balance between virtual interactions and real-life connections.'"
      ]
     },
     "execution_count": 35,
     "metadata": {},
     "output_type": "execute_result"
    }
   ],
   "source": [
    "issue = issue_gen_chain.invoke({})\n",
    "issue"
   ]
  },
  {
   "cell_type": "markdown",
   "id": "4412716d-1ccd-4161-9a81-c9bbfc8bf402",
   "metadata": {},
   "source": [
    "### 의견 평가하기"
   ]
  },
  {
   "cell_type": "code",
   "execution_count": 36,
   "id": "ac805f37-446e-473e-95f1-00e5692538cc",
   "metadata": {},
   "outputs": [],
   "source": [
    "opinion_eval_chain = build_eval_chain(instruction=\"User의 응답이 Context에 대한 적절한 의견 주장인지 추론하고 평가하라\",\n",
    "                                      reason_desc=\"User의 응답이 Context에 대한 적절한 의견 주장인지 대한 추론\",\n",
    "                                      score_desc=\"User의 응답이 Context에 대한 적절한 의견 주장인지에 대한 점수, 0~10점\")"
   ]
  },
  {
   "cell_type": "code",
   "execution_count": 37,
   "id": "6559bced-3512-4c68-b484-754ccf33ed72",
   "metadata": {},
   "outputs": [],
   "source": [
    "user_answer = \"Gender-neutral names, while fostering individuality and challenging traditional stereotypes, may also inadvertently obscure cultural heritage and create practical challenges in social interactions.\""
   ]
  },
  {
   "cell_type": "code",
   "execution_count": 38,
   "id": "df576a37-9e63-4de4-8a81-7ab06060cff2",
   "metadata": {},
   "outputs": [
    {
     "data": {
      "text/plain": [
       "{'reason': \"The user's response is a well-reasoned argument that considers both the positive and negative aspects of gender-neutral names, highlighting how they can foster individuality while also potentially obscuring cultural heritage and creating practical challenges in social interactions.\",\n",
       " 'score': 9}"
      ]
     },
     "execution_count": 38,
     "metadata": {},
     "output_type": "execute_result"
    }
   ],
   "source": [
    "opinion_eval_chain.invoke({\"context\": issue,\n",
    "                           \"input\": user_answer})"
   ]
  },
  {
   "cell_type": "code",
   "execution_count": null,
   "id": "7e2cc17d-043d-44a8-826e-4f4a71f6986d",
   "metadata": {},
   "outputs": [],
   "source": []
  },
  {
   "cell_type": "code",
   "execution_count": null,
   "id": "9f6d5154-c797-424a-99fb-83e4d2ed477d",
   "metadata": {},
   "outputs": [],
   "source": []
  }
 ],
 "metadata": {
  "kernelspec": {
   "display_name": "Python 3 (ipykernel)",
   "language": "python",
   "name": "python3"
  },
  "language_info": {
   "codemirror_mode": {
    "name": "ipython",
    "version": 3
   },
   "file_extension": ".py",
   "mimetype": "text/x-python",
   "name": "python",
   "nbconvert_exporter": "python",
   "pygments_lexer": "ipython3",
   "version": "3.11.8"
  }
 },
 "nbformat": 4,
 "nbformat_minor": 5
}
