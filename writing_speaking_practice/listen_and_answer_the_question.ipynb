{
 "cells": [
  {
   "cell_type": "markdown",
   "id": "5f17519d-cf81-4e98-ae09-2bbf1c6dc8ae",
   "metadata": {},
   "source": [
    "# 듣고 질문에 답하기 유형 데이터 만들기"
   ]
  },
  {
   "cell_type": "markdown",
   "id": "0c52b036-59b7-4bda-b7ca-1a14b2f91432",
   "metadata": {},
   "source": [
    "- 질문 생성 만들기\n",
    "- 질문에 대한 오디오 만들기\n"
   ]
  },
  {
   "cell_type": "markdown",
   "id": "d12f34c3-4687-4ff9-a440-ea05c5fe83dd",
   "metadata": {},
   "source": [
    "## 질문 생성 Chain"
   ]
  },
  {
   "cell_type": "code",
   "execution_count": 2,
   "id": "65b2be14-007d-443b-8a1a-f2e30375bdb0",
   "metadata": {},
   "outputs": [],
   "source": [
    "import json\n",
    "from typing import List\n",
    "\n",
    "from tqdm.notebook import tqdm\n",
    "from langchain_core.prompts import PromptTemplate, ChatPromptTemplate\n",
    "from langchain_core.runnables import RunnableParallel, RunnablePassthrough\n",
    "from langchain_openai import ChatOpenAI\n",
    "from langchain_core.output_parsers import JsonOutputParser, CommaSeparatedListOutputParser\n",
    "from langchain.pydantic_v1 import BaseModel, Field\n",
    "from langchain.schema import HumanMessage, AIMessage, StrOutputParser\n",
    "import pandas as pd\n",
    "import os"
   ]
  },
  {
   "cell_type": "code",
   "execution_count": 34,
   "id": "c4b9cc37-1a4f-48aa-b2e9-7e1a4619f190",
   "metadata": {},
   "outputs": [],
   "source": [
    "os.environ[\"OPENAI_API_KEY\"] = \"Your API Key\"\n",
    "model = ChatOpenAI(model=\"gpt-3.5-turbo\")"
   ]
  },
  {
   "cell_type": "markdown",
   "id": "3722780a-d603-4430-87cc-c75b819a0414",
   "metadata": {},
   "source": [
    "### 질문 주제 샘플링하기"
   ]
  },
  {
   "cell_type": "code",
   "execution_count": 4,
   "id": "30bbb308-e95f-474b-93b6-94ddbd917af8",
   "metadata": {},
   "outputs": [],
   "source": [
    "csv_parser = CommaSeparatedListOutputParser()"
   ]
  },
  {
   "cell_type": "code",
   "execution_count": 5,
   "id": "7388bd5d-f8f0-4ad6-a61a-7b02cc4623e7",
   "metadata": {},
   "outputs": [],
   "source": [
    "csv_format_instruction = csv_parser.get_format_instructions()"
   ]
  },
  {
   "cell_type": "code",
   "execution_count": 12,
   "id": "0af1673f-4322-4d9c-8552-568acfab4d48",
   "metadata": {},
   "outputs": [],
   "source": [
    "subjet_prompt_template = PromptTemplate.from_template(template=\"영어 시험에 나올 법한 일상적인 주제를 단어 형식으로 만들어줘.\\n{format_instruction}\",\n",
    "                                                      partial_variables={\"format_instruction\": csv_format_instruction})"
   ]
  },
  {
   "cell_type": "code",
   "execution_count": 13,
   "id": "4dc9142c-143c-4424-bc75-57f4bd38e5fc",
   "metadata": {},
   "outputs": [],
   "source": [
    "subject_chain = subjet_prompt_template | model | csv_parser"
   ]
  },
  {
   "cell_type": "code",
   "execution_count": 14,
   "id": "78815672-f666-46db-a9d9-2d3252274fef",
   "metadata": {},
   "outputs": [
    {
     "data": {
      "text/plain": [
       "['family',\n",
       " 'school',\n",
       " 'work',\n",
       " 'hobbies',\n",
       " 'food',\n",
       " 'travel',\n",
       " 'health',\n",
       " 'technology',\n",
       " 'environment',\n",
       " 'relationships']"
      ]
     },
     "execution_count": 14,
     "metadata": {},
     "output_type": "execute_result"
    }
   ],
   "source": [
    "subject_chain.invoke({})"
   ]
  },
  {
   "cell_type": "code",
   "execution_count": 15,
   "id": "b4e7a56b-4381-496a-97b8-ba0544604782",
   "metadata": {},
   "outputs": [
    {
     "data": {
      "text/plain": [
       "['family',\n",
       " 'school',\n",
       " 'friends',\n",
       " 'hobbies',\n",
       " 'sports',\n",
       " 'music',\n",
       " 'movies',\n",
       " 'travel',\n",
       " 'food',\n",
       " 'technology']"
      ]
     },
     "execution_count": 15,
     "metadata": {},
     "output_type": "execute_result"
    }
   ],
   "source": [
    "csv_parser.invoke(model.invoke(f\"영어 시험에 나올 법한 일상적인 주제를 단어 형식으로 만들어줘.\\n{csv_format_instruction}\"))"
   ]
  },
  {
   "cell_type": "code",
   "execution_count": 16,
   "id": "75138c2f-1cf7-49d8-850d-0a5f6b92fe70",
   "metadata": {},
   "outputs": [],
   "source": [
    "subject_list = subject_chain.invoke({})"
   ]
  },
  {
   "cell_type": "code",
   "execution_count": 17,
   "id": "96291303-98a4-4fa9-948f-06933663f8d1",
   "metadata": {},
   "outputs": [
    {
     "data": {
      "text/plain": [
       "['family',\n",
       " 'school',\n",
       " 'work',\n",
       " 'hobbies',\n",
       " 'food',\n",
       " 'travel',\n",
       " 'health',\n",
       " 'technology',\n",
       " 'environment',\n",
       " 'entertainment']"
      ]
     },
     "execution_count": 17,
     "metadata": {},
     "output_type": "execute_result"
    }
   ],
   "source": [
    "subject_list"
   ]
  },
  {
   "cell_type": "code",
   "execution_count": 18,
   "id": "895648d1-0b79-4af6-acfa-a2400acf1544",
   "metadata": {},
   "outputs": [],
   "source": [
    "subject_list = subject_list[:4]"
   ]
  },
  {
   "cell_type": "code",
   "execution_count": 26,
   "id": "e545d265-1346-4e3b-8c21-e04d1be47859",
   "metadata": {},
   "outputs": [
    {
     "data": {
      "text/plain": [
       "['family', 'school', 'work', 'hobbies']"
      ]
     },
     "execution_count": 26,
     "metadata": {},
     "output_type": "execute_result"
    }
   ],
   "source": [
    "subject_list"
   ]
  },
  {
   "cell_type": "markdown",
   "id": "b56f0e3e-7182-4f07-b209-63048b20b228",
   "metadata": {},
   "source": [
    "### 질문 만들기"
   ]
  },
  {
   "cell_type": "code",
   "execution_count": 85,
   "id": "d6bbe725-2971-4760-bbff-649c26f7f83f",
   "metadata": {},
   "outputs": [],
   "source": [
    "model = ChatOpenAI(model=\"gpt-4-1106-preview\")"
   ]
  },
  {
   "cell_type": "code",
   "execution_count": 86,
   "id": "2acf19d2",
   "metadata": {},
   "outputs": [],
   "source": [
    "# Please create a different type from the previous questions {prev_questions}"
   ]
  },
  {
   "cell_type": "code",
   "execution_count": 103,
   "id": "1b568d6a-a69e-4ac6-af71-03d1dacd4e1c",
   "metadata": {},
   "outputs": [],
   "source": [
    "template = \"\"\"\\\n",
    "# 이전 질문들 {prev_questions}\n",
    "- 이전 질문들과는 다른 유형으로 만들어줘\n",
    "- 영어 시험에 나올 법한 {input} 주제에 관한 쉬운 질문 하나 만들어줘.\n",
    "- 상대방과 연관지어 만들어줘\n",
    "- 한 문장만 만들어줘\n",
    "- 여러 예시 만들지마\n",
    "- 영어로\"\"\"\n",
    "\n",
    "\n",
    "question_prompt_template = PromptTemplate.from_template(template=template)"
   ]
  },
  {
   "cell_type": "code",
   "execution_count": 104,
   "id": "ff9e1a6e-376a-445d-bc1c-637757a4abce",
   "metadata": {},
   "outputs": [],
   "source": [
    "question_chain = question_prompt_template | model | StrOutputParser()"
   ]
  },
  {
   "cell_type": "code",
   "execution_count": 105,
   "id": "12fc90c7-7271-4b8b-b984-feff5ee31dc4",
   "metadata": {},
   "outputs": [
    {
     "data": {
      "application/vnd.jupyter.widget-view+json": {
       "model_id": "25bdd1db48bb4f0aa27382c8fd8ac1d6",
       "version_major": 2,
       "version_minor": 0
      },
      "text/plain": [
       "  0%|          | 0/4 [00:00<?, ?it/s]"
      ]
     },
     "metadata": {},
     "output_type": "display_data"
    }
   ],
   "source": [
    "question_list = []\n",
    "for subject in tqdm(subject_list):\n",
    "    question_list.append(question_chain.invoke({\"input\": subject, \"prev_questions\": question_list}))\n",
    "    # question_list.append(question_chain.invoke({\"input\": subject}))"
   ]
  },
  {
   "cell_type": "code",
   "execution_count": 106,
   "id": "291aedc9-baac-417d-8d42-ad42161097f3",
   "metadata": {},
   "outputs": [
    {
     "data": {
      "text/plain": [
       "['How many siblings do you have?',\n",
       " 'What is your favorite subject in school and why?',\n",
       " 'How do you think having siblings might influence your teamwork skills in the workplace?',\n",
       " 'Can you tell me about a hobby of yours that helps you relax after a long day?']"
      ]
     },
     "execution_count": 106,
     "metadata": {},
     "output_type": "execute_result"
    }
   ],
   "source": [
    "question_list"
   ]
  },
  {
   "cell_type": "markdown",
   "id": "994ec6ea-8429-4c25-8508-4fbb9d1ffe04",
   "metadata": {},
   "source": [
    "## 질문에 대한 오디오 파일 만들기"
   ]
  },
  {
   "cell_type": "code",
   "execution_count": 107,
   "id": "99d367cf-101c-493c-bb34-f1c1d232056c",
   "metadata": {},
   "outputs": [],
   "source": [
    "from openai import OpenAI"
   ]
  },
  {
   "cell_type": "code",
   "execution_count": 108,
   "id": "e0544537-ca40-4b70-b41e-5d7c9ccb8e61",
   "metadata": {},
   "outputs": [],
   "source": [
    "client = OpenAI()"
   ]
  },
  {
   "cell_type": "code",
   "execution_count": 109,
   "id": "e0507cc6-1cf7-4f8f-9df2-46163ff89399",
   "metadata": {},
   "outputs": [],
   "source": [
    "def gen_speech_file(text, output_file_path):\n",
    "    response = client.audio.speech.create(\n",
    "        model=\"tts-1\",\n",
    "        voice=\"alloy\", # alloy, echo, fable, onyx, nova, and shimmer\n",
    "        input=text\n",
    "    )\n",
    "    response.stream_to_file(output_file_path)"
   ]
  },
  {
   "cell_type": "code",
   "execution_count": 110,
   "id": "eaf2327c-65f2-419c-a8ad-8e2c28c14e10",
   "metadata": {},
   "outputs": [],
   "source": [
    "# !mkdir -p ./data/speaking__listen_and_answer"
   ]
  },
  {
   "cell_type": "code",
   "execution_count": 111,
   "id": "1a7a5ecb-ae17-4958-a26f-27e3a5af8db3",
   "metadata": {},
   "outputs": [],
   "source": [
    "save_dir = \"./data/speaking__listen_and_answer\""
   ]
  },
  {
   "cell_type": "code",
   "execution_count": 112,
   "id": "5a045c8a-41f8-414e-95dd-63d6aa282ffc",
   "metadata": {},
   "outputs": [
    {
     "data": {
      "text/plain": [
       "['How many siblings do you have?',\n",
       " 'What is your favorite subject in school and why?',\n",
       " 'How do you think having siblings might influence your teamwork skills in the workplace?',\n",
       " 'Can you tell me about a hobby of yours that helps you relax after a long day?']"
      ]
     },
     "execution_count": 112,
     "metadata": {},
     "output_type": "execute_result"
    }
   ],
   "source": [
    "question_list"
   ]
  },
  {
   "cell_type": "code",
   "execution_count": 113,
   "id": "4cce5dbc-7b73-4f1b-9f79-59567bd8bbc4",
   "metadata": {},
   "outputs": [
    {
     "data": {
      "application/vnd.jupyter.widget-view+json": {
       "model_id": "1331bc92dcd44ce6964a8b363a680d5b",
       "version_major": 2,
       "version_minor": 0
      },
      "text/plain": [
       "  0%|          | 0/4 [00:00<?, ?it/s]"
      ]
     },
     "metadata": {},
     "output_type": "display_data"
    },
    {
     "name": "stderr",
     "output_type": "stream",
     "text": [
      "/var/folders/mr/jpbc5ffx7x97v29q846s39tw0000gn/T/ipykernel_43321/455120697.py:7: DeprecationWarning: Due to a bug, this method doesn't actually stream the response content, `.with_streaming_response.method()` should be used instead\n",
      "  response.stream_to_file(output_file_path)\n"
     ]
    }
   ],
   "source": [
    "record_list = []\n",
    "\n",
    "for i, q in tqdm(enumerate(question_list), total=len(question_list)):\n",
    "    output_file_path = f\"{save_dir}/question_{i}.wav\"\n",
    "    gen_speech_file(q, output_file_path)\n",
    "\n",
    "    record = {\"question\": q, \"audio_file_path\": output_file_path}\n",
    "    record_list.append(record)"
   ]
  },
  {
   "cell_type": "code",
   "execution_count": 114,
   "id": "df2ab2fd-cede-416d-9ea1-ebf938e0ebea",
   "metadata": {},
   "outputs": [
    {
     "data": {
      "text/html": [
       "<div>\n",
       "<style scoped>\n",
       "    .dataframe tbody tr th:only-of-type {\n",
       "        vertical-align: middle;\n",
       "    }\n",
       "\n",
       "    .dataframe tbody tr th {\n",
       "        vertical-align: top;\n",
       "    }\n",
       "\n",
       "    .dataframe thead th {\n",
       "        text-align: right;\n",
       "    }\n",
       "</style>\n",
       "<table border=\"1\" class=\"dataframe\">\n",
       "  <thead>\n",
       "    <tr style=\"text-align: right;\">\n",
       "      <th></th>\n",
       "      <th>question</th>\n",
       "      <th>audio_file_path</th>\n",
       "    </tr>\n",
       "  </thead>\n",
       "  <tbody>\n",
       "    <tr>\n",
       "      <th>0</th>\n",
       "      <td>How many siblings do you have?</td>\n",
       "      <td>./data/speaking__listen_and_answer/question_0.wav</td>\n",
       "    </tr>\n",
       "    <tr>\n",
       "      <th>1</th>\n",
       "      <td>What is your favorite subject in school and why?</td>\n",
       "      <td>./data/speaking__listen_and_answer/question_1.wav</td>\n",
       "    </tr>\n",
       "    <tr>\n",
       "      <th>2</th>\n",
       "      <td>How do you think having siblings might influen...</td>\n",
       "      <td>./data/speaking__listen_and_answer/question_2.wav</td>\n",
       "    </tr>\n",
       "    <tr>\n",
       "      <th>3</th>\n",
       "      <td>Can you tell me about a hobby of yours that he...</td>\n",
       "      <td>./data/speaking__listen_and_answer/question_3.wav</td>\n",
       "    </tr>\n",
       "  </tbody>\n",
       "</table>\n",
       "</div>"
      ],
      "text/plain": [
       "                                            question  \\\n",
       "0                     How many siblings do you have?   \n",
       "1   What is your favorite subject in school and why?   \n",
       "2  How do you think having siblings might influen...   \n",
       "3  Can you tell me about a hobby of yours that he...   \n",
       "\n",
       "                                     audio_file_path  \n",
       "0  ./data/speaking__listen_and_answer/question_0.wav  \n",
       "1  ./data/speaking__listen_and_answer/question_1.wav  \n",
       "2  ./data/speaking__listen_and_answer/question_2.wav  \n",
       "3  ./data/speaking__listen_and_answer/question_3.wav  "
      ]
     },
     "execution_count": 114,
     "metadata": {},
     "output_type": "execute_result"
    }
   ],
   "source": [
    "df = pd.DataFrame(record_list)\n",
    "df"
   ]
  },
  {
   "cell_type": "code",
   "execution_count": 115,
   "id": "ae6887da-0a07-4337-925c-532866bdd6ac",
   "metadata": {},
   "outputs": [],
   "source": [
    "df.to_csv(f\"{save_dir}/question_and_audio.csv\", index=False)"
   ]
  },
  {
   "cell_type": "code",
   "execution_count": 116,
   "id": "52d2f2d4-4ca1-4e27-934c-92121973be5e",
   "metadata": {},
   "outputs": [],
   "source": [
    "from IPython.display import Audio"
   ]
  },
  {
   "cell_type": "code",
   "execution_count": 117,
   "id": "2e37d09f-47cf-4d5e-a9c5-ce85a922165e",
   "metadata": {},
   "outputs": [
    {
     "data": {
      "text/html": [
       "\n",
       "                <audio  controls=\"controls\" >\n",
       "                    <source src=\"data:audio/x-wav;base64,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\" type=\"audio/x-wav\" />\n",
       "                    Your browser does not support the audio element.\n",
       "                </audio>\n",
       "              "
      ],
      "text/plain": [
       "<IPython.lib.display.Audio object>"
      ]
     },
     "execution_count": 117,
     "metadata": {},
     "output_type": "execute_result"
    }
   ],
   "source": [
    "Audio(f\"{save_dir}/question_1.wav\")"
   ]
  },
  {
   "cell_type": "code",
   "execution_count": null,
   "id": "73686419-b949-4a4d-b9f5-6c51d8ee94d8",
   "metadata": {},
   "outputs": [],
   "source": []
  },
  {
   "cell_type": "code",
   "execution_count": null,
   "id": "eb644ece",
   "metadata": {},
   "outputs": [],
   "source": []
  }
 ],
 "metadata": {
  "kernelspec": {
   "display_name": "Python 3 (ipykernel)",
   "language": "python",
   "name": "python3"
  },
  "language_info": {
   "codemirror_mode": {
    "name": "ipython",
    "version": 3
   },
   "file_extension": ".py",
   "mimetype": "text/x-python",
   "name": "python",
   "nbconvert_exporter": "python",
   "pygments_lexer": "ipython3",
   "version": "3.11.8"
  }
 },
 "nbformat": 4,
 "nbformat_minor": 5
}
